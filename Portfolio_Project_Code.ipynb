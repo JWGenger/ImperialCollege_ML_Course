{
 "cells": [
  {
   "cell_type": "code",
   "execution_count": 1,
   "id": "a31f5eba",
   "metadata": {},
   "outputs": [],
   "source": [
    "import pandas as pd\n",
    "import numpy as np\n",
    "import os\n",
    "from datetime import date\n",
    "import matplotlib.pyplot as plt\n",
    "%matplotlib inline\n",
    "\n",
    "from sklearn.model_selection import train_test_split\n",
    "import sklearn.preprocessing as skp\n",
    "import sklearn.decomposition as skd\n",
    "import sklearn.svm as svm\n",
    "from sklearn.metrics import f1_score, accuracy_score, classification_report\n",
    "\n",
    "from skopt import BayesSearchCV\n",
    "from skopt.space import Real, Categorical, Integer\n",
    "\n",
    "from sklearn.ensemble import RandomForestClassifier\n",
    "from sklearn.datasets import make_classification\n",
    "\n",
    "import seaborn as sns\n",
    "\n",
    "import warnings"
   ]
  },
  {
   "cell_type": "code",
   "execution_count": 2,
   "id": "655cda72",
   "metadata": {},
   "outputs": [],
   "source": [
    "saveloc = os.getcwd()"
   ]
  },
  {
   "cell_type": "markdown",
   "id": "0f63d100",
   "metadata": {},
   "source": [
    "# Portfolio Project \n",
    "### for the Imperial College Business School Course \"Professional Certificate in Machine Learning and Artifical Intelligence\n",
    "\n",
    "#### Author: Jakob-Wendelin Genger"
   ]
  },
  {
   "cell_type": "markdown",
   "id": "f2f764e7",
   "metadata": {},
   "source": [
    "## Task and Project Description\n",
    "\n",
    "The instructions for the portfolio project were to choose a dataset that is related to my field of work and to solve the presented problem with one of the machine learning models I learned about in this programme. \n",
    "\n",
    "I chose the \"Breast Cancer Wisconsin (Diagnostic) Data Set\" provided by UCI Machine Learning on kaggle (https://www.kaggle.com/datasets/uciml/breast-cancer-wisconsin-data?resource=download). \n",
    "\n",
    "The dataset provides 30 measured features that characterise cell nuclei in images of fine needle aspirates (FNA) of breast masses obtained from patients, a sample ID and the diagnosis of the patients as outcome variable.\n",
    "\n",
    "The task for this dataset is to predict whether the presented cancer is malign or benign based on the features of the nuclei."
   ]
  },
  {
   "cell_type": "markdown",
   "id": "54b930ec",
   "metadata": {},
   "source": [
    "### Import dataset"
   ]
  },
  {
   "cell_type": "code",
   "execution_count": 3,
   "id": "f77fcc01",
   "metadata": {},
   "outputs": [
    {
     "data": {
      "text/html": [
       "<div>\n",
       "<style scoped>\n",
       "    .dataframe tbody tr th:only-of-type {\n",
       "        vertical-align: middle;\n",
       "    }\n",
       "\n",
       "    .dataframe tbody tr th {\n",
       "        vertical-align: top;\n",
       "    }\n",
       "\n",
       "    .dataframe thead th {\n",
       "        text-align: right;\n",
       "    }\n",
       "</style>\n",
       "<table border=\"1\" class=\"dataframe\">\n",
       "  <thead>\n",
       "    <tr style=\"text-align: right;\">\n",
       "      <th></th>\n",
       "      <th>id</th>\n",
       "      <th>diagnosis</th>\n",
       "      <th>radius_mean</th>\n",
       "      <th>texture_mean</th>\n",
       "      <th>perimeter_mean</th>\n",
       "      <th>area_mean</th>\n",
       "      <th>smoothness_mean</th>\n",
       "      <th>compactness_mean</th>\n",
       "      <th>concavity_mean</th>\n",
       "      <th>concave points_mean</th>\n",
       "      <th>...</th>\n",
       "      <th>texture_worst</th>\n",
       "      <th>perimeter_worst</th>\n",
       "      <th>area_worst</th>\n",
       "      <th>smoothness_worst</th>\n",
       "      <th>compactness_worst</th>\n",
       "      <th>concavity_worst</th>\n",
       "      <th>concave points_worst</th>\n",
       "      <th>symmetry_worst</th>\n",
       "      <th>fractal_dimension_worst</th>\n",
       "      <th>Unnamed: 32</th>\n",
       "    </tr>\n",
       "  </thead>\n",
       "  <tbody>\n",
       "    <tr>\n",
       "      <th>0</th>\n",
       "      <td>842302</td>\n",
       "      <td>M</td>\n",
       "      <td>17.99</td>\n",
       "      <td>10.38</td>\n",
       "      <td>122.80</td>\n",
       "      <td>1001.0</td>\n",
       "      <td>0.11840</td>\n",
       "      <td>0.27760</td>\n",
       "      <td>0.30010</td>\n",
       "      <td>0.14710</td>\n",
       "      <td>...</td>\n",
       "      <td>17.33</td>\n",
       "      <td>184.60</td>\n",
       "      <td>2019.0</td>\n",
       "      <td>0.16220</td>\n",
       "      <td>0.66560</td>\n",
       "      <td>0.7119</td>\n",
       "      <td>0.2654</td>\n",
       "      <td>0.4601</td>\n",
       "      <td>0.11890</td>\n",
       "      <td>NaN</td>\n",
       "    </tr>\n",
       "    <tr>\n",
       "      <th>1</th>\n",
       "      <td>842517</td>\n",
       "      <td>M</td>\n",
       "      <td>20.57</td>\n",
       "      <td>17.77</td>\n",
       "      <td>132.90</td>\n",
       "      <td>1326.0</td>\n",
       "      <td>0.08474</td>\n",
       "      <td>0.07864</td>\n",
       "      <td>0.08690</td>\n",
       "      <td>0.07017</td>\n",
       "      <td>...</td>\n",
       "      <td>23.41</td>\n",
       "      <td>158.80</td>\n",
       "      <td>1956.0</td>\n",
       "      <td>0.12380</td>\n",
       "      <td>0.18660</td>\n",
       "      <td>0.2416</td>\n",
       "      <td>0.1860</td>\n",
       "      <td>0.2750</td>\n",
       "      <td>0.08902</td>\n",
       "      <td>NaN</td>\n",
       "    </tr>\n",
       "    <tr>\n",
       "      <th>2</th>\n",
       "      <td>84300903</td>\n",
       "      <td>M</td>\n",
       "      <td>19.69</td>\n",
       "      <td>21.25</td>\n",
       "      <td>130.00</td>\n",
       "      <td>1203.0</td>\n",
       "      <td>0.10960</td>\n",
       "      <td>0.15990</td>\n",
       "      <td>0.19740</td>\n",
       "      <td>0.12790</td>\n",
       "      <td>...</td>\n",
       "      <td>25.53</td>\n",
       "      <td>152.50</td>\n",
       "      <td>1709.0</td>\n",
       "      <td>0.14440</td>\n",
       "      <td>0.42450</td>\n",
       "      <td>0.4504</td>\n",
       "      <td>0.2430</td>\n",
       "      <td>0.3613</td>\n",
       "      <td>0.08758</td>\n",
       "      <td>NaN</td>\n",
       "    </tr>\n",
       "    <tr>\n",
       "      <th>3</th>\n",
       "      <td>84348301</td>\n",
       "      <td>M</td>\n",
       "      <td>11.42</td>\n",
       "      <td>20.38</td>\n",
       "      <td>77.58</td>\n",
       "      <td>386.1</td>\n",
       "      <td>0.14250</td>\n",
       "      <td>0.28390</td>\n",
       "      <td>0.24140</td>\n",
       "      <td>0.10520</td>\n",
       "      <td>...</td>\n",
       "      <td>26.50</td>\n",
       "      <td>98.87</td>\n",
       "      <td>567.7</td>\n",
       "      <td>0.20980</td>\n",
       "      <td>0.86630</td>\n",
       "      <td>0.6869</td>\n",
       "      <td>0.2575</td>\n",
       "      <td>0.6638</td>\n",
       "      <td>0.17300</td>\n",
       "      <td>NaN</td>\n",
       "    </tr>\n",
       "    <tr>\n",
       "      <th>4</th>\n",
       "      <td>84358402</td>\n",
       "      <td>M</td>\n",
       "      <td>20.29</td>\n",
       "      <td>14.34</td>\n",
       "      <td>135.10</td>\n",
       "      <td>1297.0</td>\n",
       "      <td>0.10030</td>\n",
       "      <td>0.13280</td>\n",
       "      <td>0.19800</td>\n",
       "      <td>0.10430</td>\n",
       "      <td>...</td>\n",
       "      <td>16.67</td>\n",
       "      <td>152.20</td>\n",
       "      <td>1575.0</td>\n",
       "      <td>0.13740</td>\n",
       "      <td>0.20500</td>\n",
       "      <td>0.4000</td>\n",
       "      <td>0.1625</td>\n",
       "      <td>0.2364</td>\n",
       "      <td>0.07678</td>\n",
       "      <td>NaN</td>\n",
       "    </tr>\n",
       "    <tr>\n",
       "      <th>...</th>\n",
       "      <td>...</td>\n",
       "      <td>...</td>\n",
       "      <td>...</td>\n",
       "      <td>...</td>\n",
       "      <td>...</td>\n",
       "      <td>...</td>\n",
       "      <td>...</td>\n",
       "      <td>...</td>\n",
       "      <td>...</td>\n",
       "      <td>...</td>\n",
       "      <td>...</td>\n",
       "      <td>...</td>\n",
       "      <td>...</td>\n",
       "      <td>...</td>\n",
       "      <td>...</td>\n",
       "      <td>...</td>\n",
       "      <td>...</td>\n",
       "      <td>...</td>\n",
       "      <td>...</td>\n",
       "      <td>...</td>\n",
       "      <td>...</td>\n",
       "    </tr>\n",
       "    <tr>\n",
       "      <th>564</th>\n",
       "      <td>926424</td>\n",
       "      <td>M</td>\n",
       "      <td>21.56</td>\n",
       "      <td>22.39</td>\n",
       "      <td>142.00</td>\n",
       "      <td>1479.0</td>\n",
       "      <td>0.11100</td>\n",
       "      <td>0.11590</td>\n",
       "      <td>0.24390</td>\n",
       "      <td>0.13890</td>\n",
       "      <td>...</td>\n",
       "      <td>26.40</td>\n",
       "      <td>166.10</td>\n",
       "      <td>2027.0</td>\n",
       "      <td>0.14100</td>\n",
       "      <td>0.21130</td>\n",
       "      <td>0.4107</td>\n",
       "      <td>0.2216</td>\n",
       "      <td>0.2060</td>\n",
       "      <td>0.07115</td>\n",
       "      <td>NaN</td>\n",
       "    </tr>\n",
       "    <tr>\n",
       "      <th>565</th>\n",
       "      <td>926682</td>\n",
       "      <td>M</td>\n",
       "      <td>20.13</td>\n",
       "      <td>28.25</td>\n",
       "      <td>131.20</td>\n",
       "      <td>1261.0</td>\n",
       "      <td>0.09780</td>\n",
       "      <td>0.10340</td>\n",
       "      <td>0.14400</td>\n",
       "      <td>0.09791</td>\n",
       "      <td>...</td>\n",
       "      <td>38.25</td>\n",
       "      <td>155.00</td>\n",
       "      <td>1731.0</td>\n",
       "      <td>0.11660</td>\n",
       "      <td>0.19220</td>\n",
       "      <td>0.3215</td>\n",
       "      <td>0.1628</td>\n",
       "      <td>0.2572</td>\n",
       "      <td>0.06637</td>\n",
       "      <td>NaN</td>\n",
       "    </tr>\n",
       "    <tr>\n",
       "      <th>566</th>\n",
       "      <td>926954</td>\n",
       "      <td>M</td>\n",
       "      <td>16.60</td>\n",
       "      <td>28.08</td>\n",
       "      <td>108.30</td>\n",
       "      <td>858.1</td>\n",
       "      <td>0.08455</td>\n",
       "      <td>0.10230</td>\n",
       "      <td>0.09251</td>\n",
       "      <td>0.05302</td>\n",
       "      <td>...</td>\n",
       "      <td>34.12</td>\n",
       "      <td>126.70</td>\n",
       "      <td>1124.0</td>\n",
       "      <td>0.11390</td>\n",
       "      <td>0.30940</td>\n",
       "      <td>0.3403</td>\n",
       "      <td>0.1418</td>\n",
       "      <td>0.2218</td>\n",
       "      <td>0.07820</td>\n",
       "      <td>NaN</td>\n",
       "    </tr>\n",
       "    <tr>\n",
       "      <th>567</th>\n",
       "      <td>927241</td>\n",
       "      <td>M</td>\n",
       "      <td>20.60</td>\n",
       "      <td>29.33</td>\n",
       "      <td>140.10</td>\n",
       "      <td>1265.0</td>\n",
       "      <td>0.11780</td>\n",
       "      <td>0.27700</td>\n",
       "      <td>0.35140</td>\n",
       "      <td>0.15200</td>\n",
       "      <td>...</td>\n",
       "      <td>39.42</td>\n",
       "      <td>184.60</td>\n",
       "      <td>1821.0</td>\n",
       "      <td>0.16500</td>\n",
       "      <td>0.86810</td>\n",
       "      <td>0.9387</td>\n",
       "      <td>0.2650</td>\n",
       "      <td>0.4087</td>\n",
       "      <td>0.12400</td>\n",
       "      <td>NaN</td>\n",
       "    </tr>\n",
       "    <tr>\n",
       "      <th>568</th>\n",
       "      <td>92751</td>\n",
       "      <td>B</td>\n",
       "      <td>7.76</td>\n",
       "      <td>24.54</td>\n",
       "      <td>47.92</td>\n",
       "      <td>181.0</td>\n",
       "      <td>0.05263</td>\n",
       "      <td>0.04362</td>\n",
       "      <td>0.00000</td>\n",
       "      <td>0.00000</td>\n",
       "      <td>...</td>\n",
       "      <td>30.37</td>\n",
       "      <td>59.16</td>\n",
       "      <td>268.6</td>\n",
       "      <td>0.08996</td>\n",
       "      <td>0.06444</td>\n",
       "      <td>0.0000</td>\n",
       "      <td>0.0000</td>\n",
       "      <td>0.2871</td>\n",
       "      <td>0.07039</td>\n",
       "      <td>NaN</td>\n",
       "    </tr>\n",
       "  </tbody>\n",
       "</table>\n",
       "<p>569 rows × 33 columns</p>\n",
       "</div>"
      ],
      "text/plain": [
       "           id diagnosis  radius_mean  texture_mean  perimeter_mean  area_mean  \\\n",
       "0      842302         M        17.99         10.38          122.80     1001.0   \n",
       "1      842517         M        20.57         17.77          132.90     1326.0   \n",
       "2    84300903         M        19.69         21.25          130.00     1203.0   \n",
       "3    84348301         M        11.42         20.38           77.58      386.1   \n",
       "4    84358402         M        20.29         14.34          135.10     1297.0   \n",
       "..        ...       ...          ...           ...             ...        ...   \n",
       "564    926424         M        21.56         22.39          142.00     1479.0   \n",
       "565    926682         M        20.13         28.25          131.20     1261.0   \n",
       "566    926954         M        16.60         28.08          108.30      858.1   \n",
       "567    927241         M        20.60         29.33          140.10     1265.0   \n",
       "568     92751         B         7.76         24.54           47.92      181.0   \n",
       "\n",
       "     smoothness_mean  compactness_mean  concavity_mean  concave points_mean  \\\n",
       "0            0.11840           0.27760         0.30010              0.14710   \n",
       "1            0.08474           0.07864         0.08690              0.07017   \n",
       "2            0.10960           0.15990         0.19740              0.12790   \n",
       "3            0.14250           0.28390         0.24140              0.10520   \n",
       "4            0.10030           0.13280         0.19800              0.10430   \n",
       "..               ...               ...             ...                  ...   \n",
       "564          0.11100           0.11590         0.24390              0.13890   \n",
       "565          0.09780           0.10340         0.14400              0.09791   \n",
       "566          0.08455           0.10230         0.09251              0.05302   \n",
       "567          0.11780           0.27700         0.35140              0.15200   \n",
       "568          0.05263           0.04362         0.00000              0.00000   \n",
       "\n",
       "     ...  texture_worst  perimeter_worst  area_worst  smoothness_worst  \\\n",
       "0    ...          17.33           184.60      2019.0           0.16220   \n",
       "1    ...          23.41           158.80      1956.0           0.12380   \n",
       "2    ...          25.53           152.50      1709.0           0.14440   \n",
       "3    ...          26.50            98.87       567.7           0.20980   \n",
       "4    ...          16.67           152.20      1575.0           0.13740   \n",
       "..   ...            ...              ...         ...               ...   \n",
       "564  ...          26.40           166.10      2027.0           0.14100   \n",
       "565  ...          38.25           155.00      1731.0           0.11660   \n",
       "566  ...          34.12           126.70      1124.0           0.11390   \n",
       "567  ...          39.42           184.60      1821.0           0.16500   \n",
       "568  ...          30.37            59.16       268.6           0.08996   \n",
       "\n",
       "     compactness_worst  concavity_worst  concave points_worst  symmetry_worst  \\\n",
       "0              0.66560           0.7119                0.2654          0.4601   \n",
       "1              0.18660           0.2416                0.1860          0.2750   \n",
       "2              0.42450           0.4504                0.2430          0.3613   \n",
       "3              0.86630           0.6869                0.2575          0.6638   \n",
       "4              0.20500           0.4000                0.1625          0.2364   \n",
       "..                 ...              ...                   ...             ...   \n",
       "564            0.21130           0.4107                0.2216          0.2060   \n",
       "565            0.19220           0.3215                0.1628          0.2572   \n",
       "566            0.30940           0.3403                0.1418          0.2218   \n",
       "567            0.86810           0.9387                0.2650          0.4087   \n",
       "568            0.06444           0.0000                0.0000          0.2871   \n",
       "\n",
       "     fractal_dimension_worst  Unnamed: 32  \n",
       "0                    0.11890          NaN  \n",
       "1                    0.08902          NaN  \n",
       "2                    0.08758          NaN  \n",
       "3                    0.17300          NaN  \n",
       "4                    0.07678          NaN  \n",
       "..                       ...          ...  \n",
       "564                  0.07115          NaN  \n",
       "565                  0.06637          NaN  \n",
       "566                  0.07820          NaN  \n",
       "567                  0.12400          NaN  \n",
       "568                  0.07039          NaN  \n",
       "\n",
       "[569 rows x 33 columns]"
      ]
     },
     "execution_count": 3,
     "metadata": {},
     "output_type": "execute_result"
    }
   ],
   "source": [
    "data_file = open(saveloc+\"/data.csv\")\n",
    "data = pd.read_csv(data_file)\n",
    "data"
   ]
  },
  {
   "cell_type": "markdown",
   "id": "7bc22cca",
   "metadata": {},
   "source": [
    "### Divide dataset into a dataframe with features and a dataframe with the target variable\n",
    "\n",
    "Remove unnecessary features \"ID\" and \"Unnamed: 32\""
   ]
  },
  {
   "cell_type": "code",
   "execution_count": 4,
   "id": "3c699ca1",
   "metadata": {},
   "outputs": [],
   "source": [
    "#Target/Outcome variable - transform M for 'malign' and B for 'benign' to 0 and 1\n",
    "target = (data[\"diagnosis\"].to_numpy()=='M').astype(np.uint8)\n",
    "\n",
    "#Features of nuclei\n",
    "features = data.loc[:, data.columns != 'diagnosis'].drop(columns=['id', 'Unnamed: 32'], inplace=False)"
   ]
  },
  {
   "cell_type": "markdown",
   "id": "b9f54dc8",
   "metadata": {},
   "source": [
    "### PCA plot\n",
    "\n",
    "We perform first a PCA analysis to get an idea of the distribution of the dataset and most important drivers of variance and check whether we can identify features that drive difference between the two classes 'benign' and 'malign'.\n",
    "\n",
    "    First step: scaling features to get them into the same number space\n",
    "    Second step: PCA analysis\n",
    "    Third step: Visualisation of PCA1 and PCA2 coloured by outcome variable (diagnosis)"
   ]
  },
  {
   "cell_type": "code",
   "execution_count": 5,
   "id": "d6e3a65a",
   "metadata": {},
   "outputs": [],
   "source": [
    "# First step: Scaling features\n",
    "scaler = skp.StandardScaler()\n",
    "\n",
    "scaler.fit(features)\n",
    "scaled_features = scaler.transform(features)"
   ]
  },
  {
   "cell_type": "code",
   "execution_count": 6,
   "id": "3b9d9e93",
   "metadata": {},
   "outputs": [],
   "source": [
    "# Second step: PCA analysis\n",
    "pca = skd.PCA(n_components=2)\n",
    "\n",
    "pca.fit(scaled_features)\n",
    "pca_scatter = pca.fit_transform(scaled_features)"
   ]
  },
  {
   "cell_type": "code",
   "execution_count": 7,
   "id": "48b1470e",
   "metadata": {},
   "outputs": [
    {
     "data": {
      "text/plain": [
       "<matplotlib.legend.Legend at 0x7f915c37ed60>"
      ]
     },
     "execution_count": 7,
     "metadata": {},
     "output_type": "execute_result"
    },
    {
     "data": {
      "image/png": "[encoded data removed]",
      "text/plain": [
       "<Figure size 576x432 with 1 Axes>"
      ]
     },
     "metadata": {
      "needs_background": "light"
     },
     "output_type": "display_data"
    }
   ],
   "source": [
    "# Third step: Visualization of PCA1 and PCA2\n",
    "\n",
    "plt.figure(figsize=(8, 6))\n",
    "\n",
    "plt.scatter(pca_scatter[:,0][target==0], pca_scatter[:,1][target==0], c = \"green\", label=\"Benign\")\n",
    "plt.scatter(pca_scatter[:,0][target==1], pca_scatter[:,1][target==1], c = \"red\", label=\"Malign\")\n",
    "\n",
    "plt.xlabel(\"PCA1\", size=10)\n",
    "plt.ylabel(\"PCA2\", size=10)\n",
    "plt.title(\"PCA plot anylsis\", size=15)\n",
    "plt.legend()"
   ]
  },
  {
   "cell_type": "code",
   "execution_count": 8,
   "id": "1641dd2d",
   "metadata": {},
   "outputs": [
    {
     "name": "stdout",
     "output_type": "stream",
     "text": [
      "The principal component analysis showed that 44.27202560752641 % of the variance can be explained by PCA1 \n",
      "and 18.971182044033092 % of the variance can be explained by PCA2.\n",
      "\n",
      "From the distribution of datapoints in the PCA plot we can assume that we should be able to discriminate the two classes of samples well.\n"
     ]
    }
   ],
   "source": [
    "print(\"The principal component analysis showed that\",pca.explained_variance_ratio_[0]*100,\n",
    "      \"% of the variance can be explained by PCA1 \\nand\",pca.explained_variance_ratio_[1]*100,\n",
    "     \"% of the variance can be explained by PCA2.\")\n",
    "\n",
    "print(\"\\nFrom the distribution of datapoints in the PCA plot we can assume that we should be able\",\n",
    "      \"to discriminate the two classes of samples well.\")"
   ]
  },
  {
   "cell_type": "code",
   "execution_count": 9,
   "id": "0a4f2bea",
   "metadata": {},
   "outputs": [
    {
     "name": "stdout",
     "output_type": "stream",
     "text": [
      "                              PC1       PC2\n",
      "radius_mean              0.218902 -0.233857\n",
      "texture_mean             0.103725 -0.059706\n",
      "perimeter_mean           0.227537 -0.215181\n",
      "area_mean                0.220995 -0.231077\n",
      "smoothness_mean          0.142590  0.186113\n",
      "compactness_mean         0.239285  0.151892\n",
      "concavity_mean           0.258400  0.060165\n",
      "concave points_mean      0.260854 -0.034768\n",
      "symmetry_mean            0.138167  0.190349\n",
      "fractal_dimension_mean   0.064363  0.366575\n",
      "radius_se                0.205979 -0.105552\n",
      "texture_se               0.017428  0.089980\n",
      "perimeter_se             0.211326 -0.089457\n",
      "area_se                  0.202870 -0.152293\n",
      "smoothness_se            0.014531  0.204430\n",
      "compactness_se           0.170393  0.232716\n",
      "concavity_se             0.153590  0.197207\n",
      "concave points_se        0.183417  0.130322\n",
      "symmetry_se              0.042498  0.183848\n",
      "fractal_dimension_se     0.102568  0.280092\n",
      "radius_worst             0.227997 -0.219866\n",
      "texture_worst            0.104469 -0.045467\n",
      "perimeter_worst          0.236640 -0.199878\n",
      "area_worst               0.224871 -0.219352\n",
      "smoothness_worst         0.127953  0.172304\n",
      "compactness_worst        0.210096  0.143593\n",
      "concavity_worst          0.228768  0.097964\n",
      "concave points_worst     0.250886 -0.008257\n",
      "symmetry_worst           0.122905  0.141883\n",
      "fractal_dimension_worst  0.131784  0.275339\n",
      "\n",
      "The lists above show the loadings of each feature for the first two principal components.\n",
      " Loadings are the coefficients of the linear combination of the original variables from which the PCs\n",
      " are constructed and range between -1 and 1. The loadings represent how much each feature influences the component.\n",
      " A feature has greater influence on a component the closer the score of a feature is to to -1 or 1.\n",
      " Loading scores of 0 indicate a weak influence on the component.\n",
      "\n",
      " In the list provided above we see that the majority of features has loading scores over 0.1 or even 0.2 and that there is few scores that are very close to 0. This means the components are not driven by a single or few features but rather influenced by most of the features. Therefore, we will probably not be able to come up with a model that identifies a single feature as the best predictor for the outcome variable (diagnosis).\n"
     ]
    }
   ],
   "source": [
    "loadings = pd.DataFrame(pca.components_.T, columns=['PC1', 'PC2'], index=features.columns)\n",
    "print(loadings)\n",
    "\n",
    "print(\"\\nThe lists above show the loadings of each feature for the first two principal components.\\n\",\n",
    "      \"Loadings are the coefficients of the linear combination of the original variables from which the PCs\\n\",\n",
    "      \"are constructed and range between -1 and 1. The loadings represent how much each feature influences the component.\\n\",\n",
    "      \"A feature has greater influence on a component the closer the score of a feature is to to -1 or 1.\\n\",\n",
    "     \"Loading scores of 0 indicate a weak influence on the component.\\n\\n\",\n",
    "     \"In the list provided above we see that the majority of features has loading scores over 0.1 or even 0.2\",\n",
    "     \"and that there is few scores that are very close to 0. This means the components are not driven by a\",\n",
    "     \"single or few features but rather influenced by most of the features. Therefore, we will probably not\",\n",
    "     \"be able to come up with a model that identifies a single feature as the best predictor for\",\n",
    "     \"the outcome variable (diagnosis).\")"
   ]
  },
  {
   "cell_type": "markdown",
   "id": "ae50b0d8",
   "metadata": {},
   "source": [
    "## First ML Approach: Support Vector Machines (SVMs)\n",
    "\n",
    "In the first approach to solve the task to predict whether a cancer is benign or malign from the presented features of cell nuclei, I will use a Support Vector Machines approach. The presented problem is a classification problem and the advantage of an SVM approach is that it is very useful for binary classification problems where we need to find a decision boundary between two classes in high dimensions. The SVM function sklearn is also supported  by additional techniques like the integrated kernel trick (eg application of mathematical transformations on the input data or introduction of axiliary variables to turn non-linear relationships between input and output into a linear relationship).\n",
    "\n",
    "I will apply an SVM approach and tune four hyperparameters (C, gamma, degree and kernel) using bayesian optimisation as it is part of the sci-kit optimization package skopt.\n",
    "\n",
    "I chose to tune the four selected hyperparameters for the following reasons:\n",
    "- Kernel: Kernels are the mathematical functions used in SVM approaches that take the input data and transform it into the required form, e.g. here provide different ways of defining a decision boundary. I chose the kernel options linear, poly and rbf which will create a linear or polynomial decision boundary or one based on a radial basis function (RBF).\n",
    "- C: This is the hyperparameter that controls the allowed error in defining the decision boundary. Low values for C allow low errors and large Cs allow large errors or misclassification, respectively.\n",
    "- Gamma: Gamma is a hyperparameter used for the polynomial and RBF kernel and is not used for the linear kernel. It defines the curvature in the decision boundary.\n",
    "- Degree: This is the hyperparameter that defines the degree of the polynomial function used as kernel to define a decision boundary and is ignored in all other kernels."
   ]
  },
  {
   "cell_type": "markdown",
   "id": "198cd250",
   "metadata": {},
   "source": [
    "### Dividing the dataset into training set and test set\n",
    "\n",
    "We divide the dataset into training set and test set. The models used later will automatically create training and validation sets with crossvalidation from the training dataset. The test set will be used to calculate the accuracy."
   ]
  },
  {
   "cell_type": "code",
   "execution_count": 10,
   "id": "12390b54",
   "metadata": {},
   "outputs": [],
   "source": [
    "### Create training dataset\n",
    "\n",
    "train, test = train_test_split(data, test_size=0.2, random_state=0)\n",
    "\n",
    "train_features = train.loc[:, train.columns != 'diagnosis']\n",
    "train_features = train_features.loc[:, train_features.columns != 'id']\n",
    "train_features = train_features.loc[:, train_features.columns != 'Unnamed: 32']\n",
    "\n",
    "scaler.fit(train_features)\n",
    "train_scaled_features = scaler.transform(train_features)\n",
    "train_scaled_features\n",
    "\n",
    "train_target = (train[\"diagnosis\"].to_numpy()=='M').astype(np.uint8)\n",
    "\n",
    "### Create test dataset\n",
    "\n",
    "test_features = test.loc[:, test.columns != 'diagnosis']\n",
    "test_features = test_features.loc[:, test_features.columns != 'id']\n",
    "test_features = test_features.loc[:, test_features.columns != 'Unnamed: 32']\n",
    "\n",
    "scaler.fit(test_features)\n",
    "test_scaled_features = scaler.transform(test_features)\n",
    "test_scaled_features\n",
    "\n",
    "test_target = (test[\"diagnosis\"].to_numpy()=='M').astype(np.uint8)"
   ]
  },
  {
   "cell_type": "code",
   "execution_count": 11,
   "id": "734ec094",
   "metadata": {},
   "outputs": [],
   "source": [
    "# Initialise the SVM with Bayesian optimization for Hyperparameter tuning\n",
    "opt = BayesSearchCV(\n",
    "     svm.SVC(),\n",
    "     {\n",
    "         'C': Real(1e-6, 1e+6, prior='log-uniform'),\n",
    "         'gamma': Real(1e-6, 1e+1, prior='log-uniform'),\n",
    "         'degree': Integer(1,6, prior='log-uniform'),\n",
    "         'kernel': Categorical(['linear', 'poly', 'rbf']),\n",
    "     },\n",
    "     n_iter=100,\n",
    "     random_state=0)"
   ]
  },
  {
   "cell_type": "code",
   "execution_count": 12,
   "id": "843ff0ed",
   "metadata": {
    "scrolled": false
   },
   "outputs": [],
   "source": [
    "# We fit the best estimator, hiding warnings because we only get warnings that conditions were evaluated twice\n",
    "\n",
    "with warnings.catch_warnings(record=True):\n",
    "    svm_tuned = opt.fit(train_scaled_features, train_target)"
   ]
  },
  {
   "cell_type": "code",
   "execution_count": 13,
   "id": "ad7c4773",
   "metadata": {},
   "outputs": [
    {
     "name": "stdout",
     "output_type": "stream",
     "text": [
      "The score based on the subset accuracy integrated in the SVM function of sklearn calculates the subset accuracy. The result is: 97.36842105263158 % accuracy.\n"
     ]
    }
   ],
   "source": [
    "# We check the score for the best estimator, the SVM function uses mean scoring of the subset accuracy\n",
    "\n",
    "score_svm = svm_tuned.best_estimator_.score(test_scaled_features, test_target)\n",
    "\n",
    "print(\"The score based on the subset accuracy integrated in the SVM function of sklearn\",\n",
    "      \"calculates the subset accuracy. The result is:\",svm_tuned.score(test_scaled_features, test_target)*100,\n",
    "    \"% accuracy.\")"
   ]
  },
  {
   "cell_type": "code",
   "execution_count": 14,
   "id": "0eb658fa",
   "metadata": {},
   "outputs": [
    {
     "name": "stdout",
     "output_type": "stream",
     "text": [
      "I will use the F1 score which is the harmonic mean of precision and recall because it is not depending on the balance between classes: 0.967741935483871\n"
     ]
    }
   ],
   "source": [
    "f1_svm = f1_score(test_target,svm_tuned.best_estimator_.predict(test_scaled_features))\n",
    "\n",
    "print(\"I will use the F1 score which is the harmonic mean of precision and recall because it is\",\n",
    "      \"not depending on the balance between classes:\",f1_svm)"
   ]
  },
  {
   "cell_type": "code",
   "execution_count": 15,
   "id": "f34a600c",
   "metadata": {},
   "outputs": [
    {
     "name": "stdout",
     "output_type": "stream",
     "text": [
      "Taken together, the optimised SVM model gives over 96.7% accuracy in predicting whether a sample should be diagnosed as malign or benign. \n",
      "\n",
      "The best set of hyperparameters for the SVM model found with bayesian optimization we found are: <bound method BaseEstimator.get_params of SVC(C=0.18866623080557388, degree=6, gamma=1e-06, kernel='linear')>\n"
     ]
    }
   ],
   "source": [
    "print(\"Taken together, the optimised SVM model gives over 96.7% accuracy in predicting whether a sample should\",\n",
    "     \"be diagnosed as malign or benign.\",\n",
    "     \"\\n\\nThe best set of hyperparameters for the SVM model found with bayesian optimization we found are:\",svm_tuned.best_estimator_.get_params)"
   ]
  },
  {
   "cell_type": "code",
   "execution_count": 16,
   "id": "8309198f",
   "metadata": {},
   "outputs": [
    {
     "name": "stdout",
     "output_type": "stream",
     "text": [
      "The support vectors are the samples that define the decision boundary between the two classes. We use 47 in this model.\n"
     ]
    }
   ],
   "source": [
    "print(\"The support vectors are the samples that define the decision boundary between the two classes.\",\n",
    "     \"We use\",len(svm_tuned.best_estimator_.support_vectors_),\"in this model.\")"
   ]
  },
  {
   "cell_type": "code",
   "execution_count": 17,
   "id": "569edaad",
   "metadata": {
    "scrolled": false
   },
   "outputs": [
    {
     "name": "stdout",
     "output_type": "stream",
     "text": [
      "These are the patient IDs of support vectors in our training dataset:\n",
      "\n",
      "            id diagnosis\n",
      "406     905189         B\n",
      "469     911366         B\n",
      "225   88143502         B\n",
      "208    8810158         B\n",
      "542     921644         B\n",
      "68      859471         B\n",
      "526   91813701         B\n",
      "49      857156         B\n",
      "484     912600         B\n",
      "81     8611161         B\n",
      "238     883270         B\n",
      "150  871001501         B\n",
      "491   91376702         B\n",
      "133     867387         B\n",
      "541     921386         B\n",
      "204      87930         B\n",
      "455    9112085         B\n",
      "228   88147202         B\n",
      "456    9112366         B\n",
      "363    9010872         B\n",
      "148   86973702         B\n",
      "291       8915         B\n",
      "128     866458         B\n",
      "396   90401601         B\n",
      "514   91594602         M\n",
      "489     913535         M\n",
      "38      855133         M\n",
      "261     888264         M\n",
      "171      87163         M\n",
      "329     895633         M\n",
      "135     868202         M\n",
      "39      855138         M\n",
      "146     869691         M\n",
      "255     886452         M\n",
      "44    85638502         M\n",
      "297     892189         M\n",
      "73      859983         M\n",
      "215    8810987         M\n",
      "40      855167         M\n",
      "13      846381         M\n",
      "184     873885         M\n",
      "86    86135501         M\n",
      "41      855563         M\n",
      "197     877159         M\n",
      "91      861799         M\n",
      "536   91979701         M\n",
      "99      862548         M\n"
     ]
    }
   ],
   "source": [
    "print(\"These are the patient IDs of support vectors in our training dataset:\\n\")\n",
    "SVs = train.iloc[svm_tuned.best_estimator_.support_,:].drop(columns=\"Unnamed: 32\", inplace=False)\n",
    "print(SVs.iloc[:,0:2])"
   ]
  },
  {
   "cell_type": "code",
   "execution_count": 18,
   "id": "e92325eb",
   "metadata": {},
   "outputs": [
    {
     "name": "stdout",
     "output_type": "stream",
     "text": [
      "Since the best estimator based on a linear kernel, we are able to extract the importance of different \n",
      "features.\n"
     ]
    }
   ],
   "source": [
    "print(\"Since the best estimator based on a linear kernel, we are able to extract the importance of different\",\n",
    "     \"\\nfeatures.\")"
   ]
  },
  {
   "cell_type": "code",
   "execution_count": 19,
   "id": "2713e39c",
   "metadata": {},
   "outputs": [
    {
     "name": "stdout",
     "output_type": "stream",
     "text": [
      "These are the features sorted by their importance:\n"
     ]
    },
    {
     "data": {
      "image/png": "[encoded data removed]",
      "text/plain": [
       "<Figure size 1080x720 with 1 Axes>"
      ]
     },
     "metadata": {
      "needs_background": "light"
     },
     "output_type": "display_data"
    }
   ],
   "source": [
    "plt.figure(figsize=(15, 10))\n",
    "\n",
    "feature_svm = pd.Series(svm_tuned.best_estimator_.coef_[0],index=train_features.columns).sort_values(ascending=False)\n",
    "\n",
    "def f_importances(coef, names):\n",
    "    imp = coef\n",
    "    imp,names = zip(*sorted(zip(imp,names)))\n",
    "    plt.barh(range(len(names)), imp, align='center')\n",
    "    \n",
    "    plt.yticks(range(len(names)), names)\n",
    "    plt.xlabel('Feature Importance Score', fontsize=15)\n",
    "    plt.ylabel('Features', fontsize=15)\n",
    "    plt.title(\"Visualizing Important Features of the Support Vector Machine model\", fontsize=20)\n",
    "    \n",
    "    plt.show()\n",
    "\n",
    "print(\"These are the features sorted by their importance:\")\n",
    "f_importances(svm_tuned.best_estimator_.coef_[0], train_features.columns)"
   ]
  },
  {
   "cell_type": "markdown",
   "id": "7de3526b",
   "metadata": {},
   "source": [
    "## Second ML Approach: Random Forrest Classifier (RFC)\n",
    "\n",
    "In the second approach, I want to use a Random Forrest Classifier with Bayesian Optimization hyperparameter tuning for the 5 hyperparameters n_estimators, max_features, min_samples_split, criterion and min_impurity_decrease. Although we could extract the feature importance from the SVM approach above because we used a linear kernel, one drawback of SVMs is usually their low interpretability which is better with the RFC approach. In the following, I will explore whether I can get a better classifier with the RFC approach. The distadvantage of an RFC model is that it is slower than an SVM model because it generates a lot of different trees.\n",
    "\n",
    "I will try to tune the following hyperparameters:\n",
    "- n_estimators: the number of trees in the forrest\n",
    "- max_features: the maximum number of features considered for splitting a node\n",
    "- max_depth: the maximum number of levels in each decision tree\n",
    "- min_samples_split: the minimum number of data points that will be placed in a node before it will be split\n",
    "- criterion: the function we use to measure the quality of the split, e.g. the information yield\n",
    "- min_samples_leaf: the minimum number of data points allowed in a lead node\n",
    "- bootstrap = method for sampling data points"
   ]
  },
  {
   "cell_type": "code",
   "execution_count": 20,
   "id": "de59fb66",
   "metadata": {},
   "outputs": [],
   "source": [
    "rfa = BayesSearchCV(\n",
    "     RandomForestClassifier(),\n",
    "     {\n",
    "         'n_estimators': Integer(5, 500),\n",
    "         'max_features': Categorical(['sqrt', 'log2']),\n",
    "         'max_depth': Integer(10,300),\n",
    "         'min_samples_split': Integer(2,20),\n",
    "         'criterion': Categorical(['gini','entropy', 'log_loss']),\n",
    "         'min_samples_leaf': Integer(1,200),\n",
    "         'bootstrap': Categorical([True, False])\n",
    "     },\n",
    "     n_iter=100,\n",
    "     random_state=0)"
   ]
  },
  {
   "cell_type": "code",
   "execution_count": 21,
   "id": "80d6c5e0",
   "metadata": {},
   "outputs": [],
   "source": [
    "# fitting the best estimator, hiding warnings because we only get warnings that conditions were evaluated twice\n",
    "\n",
    "with warnings.catch_warnings(record=True):\n",
    "    rfc_tuned = rfa.fit(train_scaled_features, train_target)"
   ]
  },
  {
   "cell_type": "code",
   "execution_count": 22,
   "id": "dfa38a99",
   "metadata": {},
   "outputs": [
    {
     "name": "stdout",
     "output_type": "stream",
     "text": [
      "The score based on the subset accuracy integrated in the SVM function of sklearn calculates the subset accuracy. The result is: 0.9736842105263158 % accuracy.\n"
     ]
    }
   ],
   "source": [
    "# We check the score for the best estimator, the SVM function uses mean scoring of the subset accuracy\n",
    "\n",
    "score_rfc = rfc_tuned.score(test_scaled_features, test_target)\n",
    "\n",
    "print(\"The score based on the subset accuracy integrated in the SVM function of sklearn\",\n",
    "      \"calculates the subset accuracy. The result is:\",rfc_tuned.score(test_scaled_features, test_target),\n",
    "    \"% accuracy.\")"
   ]
  },
  {
   "cell_type": "code",
   "execution_count": 24,
   "id": "7b5bc0a8",
   "metadata": {},
   "outputs": [
    {
     "name": "stdout",
     "output_type": "stream",
     "text": [
      "I will use the F1 score which is the harmonic mean of precision and recall because it is not depending on the balance between classes: 0.967741935483871\n"
     ]
    }
   ],
   "source": [
    "f1_rfc = f1_score(test_target,rfc_tuned.predict(test_scaled_features))\n",
    "\n",
    "print(\"I will use the F1 score which is the harmonic mean of precision and recall because it is\",\n",
    "      \"not depending on the balance between classes:\",f1_rfc)"
   ]
  },
  {
   "cell_type": "code",
   "execution_count": 25,
   "id": "46b73551",
   "metadata": {},
   "outputs": [
    {
     "name": "stdout",
     "output_type": "stream",
     "text": [
      "Taken together, the optimised RFC model gives over 96.7% accuracy in predicting whether a sample should be diagnosed as malign or benigh. The RFC model works exactly as good as the SVM model. \n",
      "\n",
      "The hyperparameters that deviate from the default are: <bound method BaseEstimator.get_params of RandomForestClassifier(bootstrap=False, criterion='entropy', max_depth=10,\n",
      "                       max_features='log2', n_estimators=500)> \n",
      "\n",
      " The default for max_features is 'sqrt' (the number of samples to consider when looking for the \n",
      "best split is the square root of the total of features). The default for min_samples split is 2 and for \\min_samples_leaf is 1.\n"
     ]
    }
   ],
   "source": [
    "print(\"Taken together, the optimised RFC model gives over 96.7% accuracy in predicting whether a sample should\",\n",
    "     \"be diagnosed as malign or benigh. The RFC model works exactly as good as the SVM model.\",\n",
    "\n",
    "\"\\n\\nThe hyperparameters that deviate from the default are:\", rfc_tuned.best_estimator_.get_params,\n",
    "\n",
    "\"\\n\\n The default for max_features is 'sqrt' (the number of samples to consider when looking for the\",\n",
    "\"\\nbest split is the square root of the total of features). The default for min_samples split is 2 and for\",\n",
    "\"\\min_samples_leaf is 1.\")"
   ]
  },
  {
   "cell_type": "code",
   "execution_count": 26,
   "id": "62fab5a2",
   "metadata": {},
   "outputs": [
    {
     "name": "stdout",
     "output_type": "stream",
     "text": [
      "Moreover, we can extract the feature importance to compare it to the SVM model with the same performance:\n"
     ]
    }
   ],
   "source": [
    "print(\"Moreover, we can extract the feature importance to compare it to the SVM model with the same performance:\")"
   ]
  },
  {
   "cell_type": "code",
   "execution_count": 29,
   "id": "2716f09f",
   "metadata": {},
   "outputs": [
    {
     "data": {
      "image/png": "[encoded data removed]",
      "text/plain": [
       "<Figure size 1080x720 with 1 Axes>"
      ]
     },
     "metadata": {
      "needs_background": "light"
     },
     "output_type": "display_data"
    }
   ],
   "source": [
    "plt.figure(figsize=(15, 10))\n",
    "\n",
    "feature_rfc = pd.Series(rfc_tuned.best_estimator_.feature_importances_,index=train_features.columns).sort_values(ascending=False)\n",
    "\n",
    "# Creating a bar plot\n",
    "sns.barplot(x=feature_rfc, y=feature_rfc.index)\n",
    "plt.xlabel('Feature Importance Score', fontsize=15)\n",
    "plt.ylabel('Features', fontsize=15)\n",
    "plt.title(\"Visualizing Important Features of the RandomForrest Classifier model\", fontsize=20)\n",
    "\n",
    "plt.show()"
   ]
  },
  {
   "cell_type": "markdown",
   "id": "b7b25c76",
   "metadata": {},
   "source": [
    "## Evaluating the performance of the two ML approaches\n",
    "\n",
    "In the following, I will compare the two presented models and compare their performance."
   ]
  },
  {
   "cell_type": "markdown",
   "id": "eaf0a983",
   "metadata": {},
   "source": [
    "### Important features\n",
    "\n",
    "In the first step, I will compare the most important features that led to the definition of the decision boundary in the SVM model or creation of the best tree in the RFC model."
   ]
  },
  {
   "cell_type": "code",
   "execution_count": 30,
   "id": "54c949ed",
   "metadata": {},
   "outputs": [
    {
     "data": {
      "text/plain": [
       "radius_se               0.555821\n",
       "concavity_worst         0.463779\n",
       "perimeter_se            0.456769\n",
       "texture_worst           0.448456\n",
       "area_se                 0.408313\n",
       "radius_worst            0.390666\n",
       "concavity_mean          0.383731\n",
       "perimeter_worst         0.380879\n",
       "area_worst              0.372428\n",
       "concave points_worst    0.351501\n",
       "dtype: float64"
      ]
     },
     "execution_count": 30,
     "metadata": {},
     "output_type": "execute_result"
    }
   ],
   "source": [
    "# The ten most important features in the SVM model\n",
    "feature_svm[:10]"
   ]
  },
  {
   "cell_type": "code",
   "execution_count": 31,
   "id": "eaf99c3a",
   "metadata": {},
   "outputs": [
    {
     "data": {
      "text/plain": [
       "concave points_worst    0.124574\n",
       "perimeter_worst         0.124117\n",
       "area_worst              0.103497\n",
       "concave points_mean     0.086287\n",
       "radius_worst            0.082030\n",
       "concavity_mean          0.054461\n",
       "area_mean               0.047935\n",
       "perimeter_mean          0.041764\n",
       "area_se                 0.038987\n",
       "radius_mean             0.035702\n",
       "dtype: float64"
      ]
     },
     "execution_count": 31,
     "metadata": {},
     "output_type": "execute_result"
    }
   ],
   "source": [
    "# The ten most important features in the SVM model\n",
    "feature_rfc[:10]"
   ]
  },
  {
   "cell_type": "markdown",
   "id": "14dead87",
   "metadata": {},
   "source": [
    "As we see above, there is quite an overlap of the lists of the ten most important features for the two models. However, they are not ranked in the same order. Nevertheless, these two models identify a similar set of features as the most important features. The RFC model identifies even three features as the most outstanding most important features."
   ]
  },
  {
   "cell_type": "markdown",
   "id": "03a90900",
   "metadata": {},
   "source": [
    "### Predictive Performance\n",
    "\n",
    "In the next step, I will compare the predictive performance of the models and compare it to a naive classifier."
   ]
  },
  {
   "cell_type": "code",
   "execution_count": 32,
   "id": "55512ece",
   "metadata": {},
   "outputs": [],
   "source": [
    "# Creating the naive classifier that classifies all samples as \"M\" for malign which would mean that we \n",
    "# diagnose every patient as a patient that has a dangerous tumor which would lead in the case of breast cancer\n",
    "# to quite serious medical treatments which need to be avoided if it is not absolutely necessary\n",
    "\n",
    "naive = np.empty(len(test_target))\n",
    "naive.fill(1)"
   ]
  },
  {
   "cell_type": "code",
   "execution_count": 33,
   "id": "412d2e82",
   "metadata": {},
   "outputs": [
    {
     "name": "stdout",
     "output_type": "stream",
     "text": [
      "Accuracy of the naive classifier is: 41.228070175438596 %.\n",
      "Accuracy of the SVM model is: 97.36842105263158 %.\n",
      "Accuracy of the naive classifier is: 97.36842105263158 %.\n",
      "\n",
      "The F1 score for this naive classifier yields a score of: 0.5838509316770186\n",
      "The F1 score for this SVM model yields a score of: 0.967741935483871\n",
      "The F1 score for this RFC model yields a score of: 0.967741935483871\n"
     ]
    }
   ],
   "source": [
    "# Calculate accuracy for the different models\n",
    "print(\"Accuracy of the naive classifier is:\",accuracy_score(test_target,naive)*100,\"%.\")\n",
    "print(\"Accuracy of the SVM model is:\",accuracy_score(test_target, svm_tuned.best_estimator_.predict(test_scaled_features))*100,\"%.\")\n",
    "print(\"Accuracy of the naive classifier is:\",accuracy_score(test_target, rfc_tuned.best_estimator_.predict(test_scaled_features))*100,\"%.\")\n",
    "\n",
    "print(\"\\nThe F1 score for this naive classifier yields a score of:\",f1_score(test_target,naive))\n",
    "print(\"The F1 score for this SVM model yields a score of:\",f1_svm)\n",
    "print(\"The F1 score for this RFC model yields a score of:\",f1_rfc)\n"
   ]
  },
  {
   "cell_type": "code",
   "execution_count": 34,
   "id": "59d5628f",
   "metadata": {},
   "outputs": [
    {
     "name": "stdout",
     "output_type": "stream",
     "text": [
      "Classification report for the naive classifier:\n",
      "              precision    recall  f1-score   support\n",
      "\n",
      "           0       0.00      0.00      0.00        67\n",
      "           1       0.41      1.00      0.58        47\n",
      "\n",
      "    accuracy                           0.41       114\n",
      "   macro avg       0.21      0.50      0.29       114\n",
      "weighted avg       0.17      0.41      0.24       114\n",
      "\n",
      "\n",
      "Classification report for the SVM model:\n",
      "              precision    recall  f1-score   support\n",
      "\n",
      "           0       0.97      0.99      0.98        67\n",
      "           1       0.98      0.96      0.97        47\n",
      "\n",
      "    accuracy                           0.97       114\n",
      "   macro avg       0.97      0.97      0.97       114\n",
      "weighted avg       0.97      0.97      0.97       114\n",
      "\n",
      "\n",
      "Classification report for the RFC model:\n",
      "              precision    recall  f1-score   support\n",
      "\n",
      "           0       0.97      0.99      0.98        67\n",
      "           1       0.98      0.96      0.97        47\n",
      "\n",
      "    accuracy                           0.97       114\n",
      "   macro avg       0.97      0.97      0.97       114\n",
      "weighted avg       0.97      0.97      0.97       114\n",
      "\n"
     ]
    }
   ],
   "source": [
    "print(\"Classification report for the naive classifier:\")\n",
    "with warnings.catch_warnings(record=True):\n",
    "    print(classification_report(test_target,naive))\n",
    "\n",
    "print(\"\\nClassification report for the SVM model:\")\n",
    "print(classification_report(test_target,svm_tuned.best_estimator_.predict(test_scaled_features)))\n",
    "\n",
    "print(\"\\nClassification report for the RFC model:\")\n",
    "print(classification_report(test_target,rfc_tuned.best_estimator_.predict(test_scaled_features)))"
   ]
  },
  {
   "cell_type": "markdown",
   "id": "3b1f8f38",
   "metadata": {},
   "source": [
    "SVM and RFC model have the same predictive performance classify malign samples far better than the naive classifier. Both models have more than twice the accuracy of the naive classifier and a far better F1 score than the naive classifier. "
   ]
  },
  {
   "cell_type": "markdown",
   "id": "9d558fe0",
   "metadata": {},
   "source": [
    "## Conclusion\n",
    "\n",
    "Taken together, I trained two models: one based on Support Vector Machines, one based on a Random Forrest Classifier. Both models showed the same predictive performance with the same accuracy and F1 and performed far better than a naive classifier that would classify all samples as malign samples. The naive classifier had an accuracy of 41.2% which means that the misclassification rate would be 58.8%. This would lead to 58.8% of patients not receiving the treatment they would need (or would receive treatment although they don't need it). Being treated for breast cancer although they wouldn't need this treatment would mean surgical interventions and strong medical treatment regimes although not necessary and thereby it would lead to a drastic decrease in life quality.\n",
    "\n",
    "On the other hand, both models developed here had an accuracy of about 97.4% which is the fraction of total samples that were correctly classified. This is already a very good result. We will look more specifically at different parameters of the predictive performance in the following.\n",
    "\n",
    "According to the classification report given above, precision of both models was the same with about 0.98 for malign samples (1) and 0.97 for benign samples (0). Precision is the fraction of correct predictions in the positive class (true positives among true and false positives). This means that 2% of malign samples would be incorrectly classified as malign samples. These patients would be recommended for medical treatment against breast cancer although they don't need it. They are false positives.\n",
    "\n",
    "However, it still means we would only misclassify 2% of patients that have a good, benign tumor and treat them although they don't need treatment. In a clinical setting, it is better to have false positives than false negatives because being false positive usually does not mean that patients will directly receive treatment but be subjected to further diagnoses and closer examination. Therefore, I am confident that these 2% of patients would be correctly classified as benign tumors in the follow-up diagnostics.\n",
    "\n",
    "The recall describes how many of the positive samples were correctly predicted as positive by the classifier. This means how many malign tumors could we find and on the other hand (1-recall), how many did we miss, eg how many patients that need treatment would not be recommended for treatment? This is also known as sensitivity and true positive rate and is calculated as true poistives divided by the sum of true positives and false negatives. The recall for malign samples is 0.96 in both models. This means that we are correctly classifying 96% of the malign samples but are missing 4% of the malign samples which means that 4% of patients that need treatment wouldn't be recommended for treatment. Nevertheless, correctly identifying 96% of the malign tumors is still a very high and good result.\n",
    "\n",
    "In conclusion, both models that I developed here are very successful in solving the task to develop a model that predicts malign samples from the 30 features extracted from images of breast masses."
   ]
  }
 ],
 "metadata": {
  "kernelspec": {
   "display_name": "Python 3 (ipykernel)",
   "language": "python",
   "name": "python3"
  },
  "language_info": {
   "codemirror_mode": {
    "name": "ipython",
    "version": 3
   },
   "file_extension": ".py",
   "mimetype": "text/x-python",
   "name": "python",
   "nbconvert_exporter": "python",
   "pygments_lexer": "ipython3",
   "version": "3.9.7"
  }
 },
 "nbformat": 4,
 "nbformat_minor": 5
}
